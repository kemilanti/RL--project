{
 "cells": [
  {
   "cell_type": "code",
   "execution_count": 2,
   "id": "d5b9922b-bd5a-4f78-9a49-43dbaca248fd",
   "metadata": {},
   "outputs": [],
   "source": [
    "import gym \n",
    "import random\n",
    "\n",
    "env = gym.make('CartPole-v0')\n",
    "states = env.observation_space.shape[0]\n",
    "actions = env.action_space.n"
   ]
  },
  {
   "cell_type": "code",
   "execution_count": 2,
   "id": "589003b2-8873-4f27-8545-e18cdbb5916f",
   "metadata": {},
   "outputs": [
    {
     "data": {
      "text/plain": [
       "2"
      ]
     },
     "execution_count": 2,
     "metadata": {},
     "output_type": "execute_result"
    }
   ],
   "source": [
    "actions"
   ]
  },
  {
   "cell_type": "code",
   "execution_count": 3,
   "id": "53d9aff6-109b-414c-84e3-33677d0a945e",
   "metadata": {},
   "outputs": [
    {
     "name": "stdout",
     "output_type": "stream",
     "text": [
      "Episode:1 Score:16.0\n",
      "Episode:2 Score:29.0\n",
      "Episode:3 Score:27.0\n",
      "Episode:4 Score:11.0\n",
      "Episode:5 Score:16.0\n",
      "Episode:6 Score:12.0\n",
      "Episode:7 Score:16.0\n",
      "Episode:8 Score:17.0\n",
      "Episode:9 Score:12.0\n",
      "Episode:10 Score:24.0\n"
     ]
    }
   ],
   "source": [
    "episodes = 10\n",
    "for episode in range(1, episodes+1):\n",
    "    state = env.reset()\n",
    "    done = False\n",
    "    score = 0 \n",
    "    \n",
    "    while not done:\n",
    "        env.render()\n",
    "        action = random.choice([0,1])\n",
    "        n_state, reward, done, info = env.step(action)\n",
    "        score+=reward\n",
    "    env.close()\n",
    "    print('Episode:{} Score:{}'.format(episode, score))"
   ]
  },
  {
   "cell_type": "code",
   "execution_count": 4,
   "id": "45e0e939-10e9-40f0-82b8-f6852c3f5dc5",
   "metadata": {},
   "outputs": [
    {
     "name": "stdout",
     "output_type": "stream",
     "text": [
      "True\n"
     ]
    }
   ],
   "source": [
    "print(done)"
   ]
  },
  {
   "cell_type": "code",
   "execution_count": 5,
   "id": "b631e3b3-be5c-4a80-b467-9054161fedbd",
   "metadata": {},
   "outputs": [],
   "source": [
    "import numpy as np\n",
    "from tensorflow.keras.models import Sequential\n",
    "from tensorflow.keras.layers import Dense, Flatten\n",
    "from tensorflow.keras.optimizers import Adam"
   ]
  },
  {
   "cell_type": "code",
   "execution_count": 6,
   "id": "2bc008c2-7c4a-40ee-9104-7fffe310dbcf",
   "metadata": {},
   "outputs": [
    {
     "name": "stdout",
     "output_type": "stream",
     "text": [
      "Model: \"sequential\"\n",
      "_________________________________________________________________\n",
      "Layer (type)                 Output Shape              Param #   \n",
      "=================================================================\n",
      "flatten (Flatten)            (None, 4)                 0         \n",
      "_________________________________________________________________\n",
      "dense (Dense)                (None, 24)                120       \n",
      "_________________________________________________________________\n",
      "dense_1 (Dense)              (None, 24)                600       \n",
      "_________________________________________________________________\n",
      "dense_2 (Dense)              (None, 48)                1200      \n",
      "_________________________________________________________________\n",
      "dense_3 (Dense)              (None, 2)                 98        \n",
      "=================================================================\n",
      "Total params: 2,018\n",
      "Trainable params: 2,018\n",
      "Non-trainable params: 0\n",
      "_________________________________________________________________\n"
     ]
    }
   ],
   "source": [
    "def build_model(states, actions):\n",
    "    model = Sequential()\n",
    "    model.add(Flatten(input_shape=(1,states)))\n",
    "    model.add(Dense(24, activation='relu'))\n",
    "    model.add(Dense(24, activation='relu'))\n",
    "    model.add(Dense(48, activation='relu'))\n",
    "\n",
    "    model.add(Dense(actions, activation='linear'))\n",
    "    return model\n",
    "model = build_model(states, actions)\n",
    "model.summary()"
   ]
  },
  {
   "cell_type": "code",
   "execution_count": 7,
   "id": "11df05b5-f6e8-411c-b3f8-417dc9ee12b0",
   "metadata": {},
   "outputs": [],
   "source": [
    "from rl.agents import DQNAgent\n",
    "from rl.policy import BoltzmannQPolicy\n",
    "from rl.memory import SequentialMemory"
   ]
  },
  {
   "cell_type": "code",
   "execution_count": 32,
   "id": "6939a471-8fdf-4274-b187-c152548049a2",
   "metadata": {},
   "outputs": [],
   "source": [
    "def build_agent(model, actions):\n",
    "    policy = BoltzmannQPolicy()\n",
    "    memory = SequentialMemory(limit=50000, window_length=1)\n",
    "    dqn = DQNAgent(model=model, memory=memory, policy=policy, \n",
    "                  nb_actions=actions, nb_steps_warmup=10, target_model_update=1e-2)\n",
    "    return dqn"
   ]
  },
  {
   "cell_type": "code",
   "execution_count": 33,
   "id": "c5d5687e-bc55-4e7e-bded-81d8f95ba711",
   "metadata": {},
   "outputs": [
    {
     "name": "stdout",
     "output_type": "stream",
     "text": [
      "Training for 50000 steps ...\n",
      "Interval 1 (0 steps performed)\n",
      "10000/10000 [==============================] - 41s 4ms/step - reward: 1.0000\n",
      "97 episodes - episode_reward: 102.052 [10.000, 200.000] - loss: 2.411 - mae: 19.594 - mean_q: 39.774\n",
      "\n",
      "Interval 2 (10000 steps performed)\n",
      "10000/10000 [==============================] - 39s 4ms/step - reward: 1.0000\n",
      "58 episodes - episode_reward: 170.914 [141.000, 200.000] - loss: 3.585 - mae: 34.925 - mean_q: 70.628\n",
      "\n",
      "Interval 3 (20000 steps performed)\n",
      "10000/10000 [==============================] - 40s 4ms/step - reward: 1.0000\n",
      "52 episodes - episode_reward: 192.750 [134.000, 200.000] - loss: 6.612 - mae: 38.720 - mean_q: 78.274\n",
      "\n",
      "Interval 4 (30000 steps performed)\n",
      "10000/10000 [==============================] - 41s 4ms/step - reward: 1.0000: 3s\n",
      "52 episodes - episode_reward: 192.385 [74.000, 200.000] - loss: 11.079 - mae: 41.883 - mean_q: 84.746\n",
      "\n",
      "Interval 5 (40000 steps performed)\n",
      "10000/10000 [==============================] - 42s 4ms/step - reward: 1.0000\n",
      "done, took 202.634 seconds\n"
     ]
    },
    {
     "data": {
      "text/plain": [
       "<keras.callbacks.History at 0x207a6339be0>"
      ]
     },
     "execution_count": 33,
     "metadata": {},
     "output_type": "execute_result"
    }
   ],
   "source": [
    "dqn = build_agent(model, actions)\n",
    "dqn.compile(Adam(lr=1e-3), metrics=['mae'])\n",
    "dqn.fit(env, nb_steps=50000, visualize=False, verbose=1)"
   ]
  },
  {
   "cell_type": "code",
   "execution_count": 34,
   "id": "db4d5bbe-56ac-4b7f-b9ae-087302152a3f",
   "metadata": {},
   "outputs": [
    {
     "name": "stdout",
     "output_type": "stream",
     "text": [
      "Testing for 100 episodes ...\n",
      "Episode 1: reward: 200.000, steps: 200\n",
      "Episode 2: reward: 200.000, steps: 200\n",
      "Episode 3: reward: 200.000, steps: 200\n",
      "Episode 4: reward: 200.000, steps: 200\n",
      "Episode 5: reward: 200.000, steps: 200\n",
      "Episode 6: reward: 200.000, steps: 200\n",
      "Episode 7: reward: 200.000, steps: 200\n",
      "Episode 8: reward: 200.000, steps: 200\n",
      "Episode 9: reward: 200.000, steps: 200\n",
      "Episode 10: reward: 200.000, steps: 200\n",
      "Episode 11: reward: 200.000, steps: 200\n",
      "Episode 12: reward: 200.000, steps: 200\n",
      "Episode 13: reward: 200.000, steps: 200\n",
      "Episode 14: reward: 200.000, steps: 200\n",
      "Episode 15: reward: 200.000, steps: 200\n",
      "Episode 16: reward: 200.000, steps: 200\n",
      "Episode 17: reward: 200.000, steps: 200\n",
      "Episode 18: reward: 200.000, steps: 200\n",
      "Episode 19: reward: 200.000, steps: 200\n",
      "Episode 20: reward: 200.000, steps: 200\n",
      "Episode 21: reward: 200.000, steps: 200\n",
      "Episode 22: reward: 200.000, steps: 200\n",
      "Episode 23: reward: 200.000, steps: 200\n",
      "Episode 24: reward: 200.000, steps: 200\n",
      "Episode 25: reward: 200.000, steps: 200\n",
      "Episode 26: reward: 200.000, steps: 200\n",
      "Episode 27: reward: 200.000, steps: 200\n",
      "Episode 28: reward: 200.000, steps: 200\n",
      "Episode 29: reward: 200.000, steps: 200\n",
      "Episode 30: reward: 200.000, steps: 200\n",
      "Episode 31: reward: 200.000, steps: 200\n",
      "Episode 32: reward: 200.000, steps: 200\n",
      "Episode 33: reward: 200.000, steps: 200\n",
      "Episode 34: reward: 200.000, steps: 200\n",
      "Episode 35: reward: 200.000, steps: 200\n",
      "Episode 36: reward: 200.000, steps: 200\n",
      "Episode 37: reward: 200.000, steps: 200\n",
      "Episode 38: reward: 200.000, steps: 200\n",
      "Episode 39: reward: 200.000, steps: 200\n",
      "Episode 40: reward: 200.000, steps: 200\n",
      "Episode 41: reward: 200.000, steps: 200\n",
      "Episode 42: reward: 200.000, steps: 200\n",
      "Episode 43: reward: 200.000, steps: 200\n",
      "Episode 44: reward: 200.000, steps: 200\n",
      "Episode 45: reward: 200.000, steps: 200\n",
      "Episode 46: reward: 200.000, steps: 200\n",
      "Episode 47: reward: 200.000, steps: 200\n",
      "Episode 48: reward: 200.000, steps: 200\n",
      "Episode 49: reward: 200.000, steps: 200\n",
      "Episode 50: reward: 200.000, steps: 200\n",
      "Episode 51: reward: 200.000, steps: 200\n",
      "Episode 52: reward: 200.000, steps: 200\n",
      "Episode 53: reward: 200.000, steps: 200\n",
      "Episode 54: reward: 200.000, steps: 200\n",
      "Episode 55: reward: 200.000, steps: 200\n",
      "Episode 56: reward: 200.000, steps: 200\n",
      "Episode 57: reward: 200.000, steps: 200\n",
      "Episode 58: reward: 200.000, steps: 200\n",
      "Episode 59: reward: 200.000, steps: 200\n",
      "Episode 60: reward: 200.000, steps: 200\n",
      "Episode 61: reward: 200.000, steps: 200\n",
      "Episode 62: reward: 200.000, steps: 200\n",
      "Episode 63: reward: 200.000, steps: 200\n",
      "Episode 64: reward: 200.000, steps: 200\n",
      "Episode 65: reward: 200.000, steps: 200\n",
      "Episode 66: reward: 200.000, steps: 200\n",
      "Episode 67: reward: 200.000, steps: 200\n",
      "Episode 68: reward: 200.000, steps: 200\n",
      "Episode 69: reward: 200.000, steps: 200\n",
      "Episode 70: reward: 200.000, steps: 200\n",
      "Episode 71: reward: 200.000, steps: 200\n",
      "Episode 72: reward: 200.000, steps: 200\n",
      "Episode 73: reward: 200.000, steps: 200\n",
      "Episode 74: reward: 200.000, steps: 200\n",
      "Episode 75: reward: 200.000, steps: 200\n",
      "Episode 76: reward: 200.000, steps: 200\n",
      "Episode 77: reward: 200.000, steps: 200\n",
      "Episode 78: reward: 200.000, steps: 200\n",
      "Episode 79: reward: 200.000, steps: 200\n",
      "Episode 80: reward: 200.000, steps: 200\n",
      "Episode 81: reward: 200.000, steps: 200\n",
      "Episode 82: reward: 200.000, steps: 200\n",
      "Episode 83: reward: 200.000, steps: 200\n",
      "Episode 84: reward: 200.000, steps: 200\n",
      "Episode 85: reward: 200.000, steps: 200\n",
      "Episode 86: reward: 200.000, steps: 200\n",
      "Episode 87: reward: 200.000, steps: 200\n",
      "Episode 88: reward: 200.000, steps: 200\n",
      "Episode 89: reward: 200.000, steps: 200\n",
      "Episode 90: reward: 200.000, steps: 200\n",
      "Episode 91: reward: 200.000, steps: 200\n",
      "Episode 92: reward: 200.000, steps: 200\n",
      "Episode 93: reward: 200.000, steps: 200\n",
      "Episode 94: reward: 200.000, steps: 200\n",
      "Episode 95: reward: 200.000, steps: 200\n",
      "Episode 96: reward: 200.000, steps: 200\n",
      "Episode 97: reward: 200.000, steps: 200\n",
      "Episode 98: reward: 200.000, steps: 200\n",
      "Episode 99: reward: 200.000, steps: 200\n",
      "Episode 100: reward: 200.000, steps: 200\n",
      "200.0\n"
     ]
    }
   ],
   "source": [
    "scores = dqn.test(env, nb_episodes=100, visualize=False)\n",
    "print(np.mean(scores.history['episode_reward']))"
   ]
  },
  {
   "cell_type": "code",
   "execution_count": 35,
   "id": "7ac40525-69f9-4eba-9140-9e5375f2ea9a",
   "metadata": {},
   "outputs": [
    {
     "name": "stdout",
     "output_type": "stream",
     "text": [
      "Testing for 15 episodes ...\n",
      "Episode 1: reward: 200.000, steps: 200\n",
      "Episode 2: reward: 200.000, steps: 200\n",
      "Episode 3: reward: 200.000, steps: 200\n",
      "Episode 4: reward: 200.000, steps: 200\n",
      "Episode 5: reward: 200.000, steps: 200\n",
      "Episode 6: reward: 200.000, steps: 200\n",
      "Episode 7: reward: 200.000, steps: 200\n",
      "Episode 8: reward: 200.000, steps: 200\n",
      "Episode 9: reward: 200.000, steps: 200\n",
      "Episode 10: reward: 200.000, steps: 200\n",
      "Episode 11: reward: 200.000, steps: 200\n",
      "Episode 12: reward: 200.000, steps: 200\n",
      "Episode 13: reward: 200.000, steps: 200\n",
      "Episode 14: reward: 200.000, steps: 200\n",
      "Episode 15: reward: 200.000, steps: 200\n"
     ]
    }
   ],
   "source": [
    "_ = dqn.test(env, nb_episodes=15, visualize=True)\n"
   ]
  },
  {
   "cell_type": "code",
   "execution_count": 21,
   "id": "6b1515ec-3204-442b-bb1d-526d4159b405",
   "metadata": {},
   "outputs": [],
   "source": [
    "dqn.save_weights('dqn_weights.h5f', overwrite=True)\n"
   ]
  },
  {
   "cell_type": "code",
   "execution_count": 22,
   "id": "ea8cac42-5fd4-4c6e-87aa-95395576da86",
   "metadata": {},
   "outputs": [],
   "source": [
    "del model\n",
    "del dqn\n",
    "del env"
   ]
  },
  {
   "cell_type": "code",
   "execution_count": 23,
   "id": "b0a65b1c-8fd4-41f5-aef6-68a0541090cc",
   "metadata": {},
   "outputs": [],
   "source": [
    "env = gym.make('CartPole-v0')\n",
    "actions = env.action_space.n\n",
    "states = env.observation_space.shape[0]\n",
    "model = build_model(states, actions)\n",
    "dqn = build_agent(model, actions)\n",
    "dqn.compile(Adam(lr=1e-3), metrics=['mae'])"
   ]
  },
  {
   "cell_type": "code",
   "execution_count": null,
   "id": "261d126f-a319-418e-80a7-c8f569638f73",
   "metadata": {},
   "outputs": [],
   "source": [
    "dqn.load_weights('dqn_weights.h5f')"
   ]
  },
  {
   "cell_type": "code",
   "execution_count": 29,
   "id": "f82dabc3-190a-4445-a1a6-f59701892cbf",
   "metadata": {},
   "outputs": [
    {
     "name": "stdout",
     "output_type": "stream",
     "text": [
      "Testing for 5 episodes ...\n",
      "Episode 1: reward: 9.000, steps: 9\n",
      "Episode 2: reward: 10.000, steps: 10\n",
      "Episode 3: reward: 10.000, steps: 10\n",
      "Episode 4: reward: 10.000, steps: 10\n",
      "Episode 5: reward: 8.000, steps: 8\n"
     ]
    }
   ],
   "source": [
    "_ = dqn.test(env, nb_episodes=5, visualize=True)\n",
    "env.close()"
   ]
  },
  {
   "cell_type": "code",
   "execution_count": null,
   "id": "9fba77c4-8d2a-40dc-9d68-73ad99a31150",
   "metadata": {},
   "outputs": [],
   "source": []
  }
 ],
 "metadata": {
  "kernelspec": {
   "display_name": "Python 3 (ipykernel)",
   "language": "python",
   "name": "python3"
  },
  "language_info": {
   "codemirror_mode": {
    "name": "ipython",
    "version": 3
   },
   "file_extension": ".py",
   "mimetype": "text/x-python",
   "name": "python",
   "nbconvert_exporter": "python",
   "pygments_lexer": "ipython3",
   "version": "3.9.12"
  }
 },
 "nbformat": 4,
 "nbformat_minor": 5
}
